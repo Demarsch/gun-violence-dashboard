{
 "cells": [
  {
   "cell_type": "code",
   "execution_count": null,
   "metadata": {},
   "outputs": [],
   "source": [
    "i"
   ]
  },
  {
   "cell_type": "code",
   "execution_count": null,
   "metadata": {},
   "outputs": [],
   "source": [
    "{\n",
    "    \"y_axis\": \"Number of Incidents\",\n",
    "    \"pivot\": [\n",
    "        { \n",
    "            \"value\": \"victimAge\",\n",
    "            \"display\": \"Victim Age\"\n",
    "        }\n",
    "    ],\n",
    "    \"data\" : {\n",
    "        \"18\" : {\n",
    "            \"y_axis\": 1000\n",
    "        },\n",
    "        \"25\" : {\n",
    "            \"y_axis\": 1500\n",
    "        },\n",
    "        \"30\" : {\n",
    "            \"y_axis\": 1600\n",
    "        }\n",
    "    }\n",
    "}"
   ]
  },
  {
   "cell_type": "code",
   "execution_count": null,
   "metadata": {},
   "outputs": [],
   "source": [
    "var x = [];\n",
    "for (var i = 0; i < 500; i ++) {\n",
    "\tx[i] = Math.random();\n",
    "}\n",
    "\n",
    "var data = [\n",
    "  {\n",
    "    x: x,\n",
    "    type: 'histogram',\n",
    "\thistnorm: 'probability',\n",
    "\tmarker: {\n",
    "        color: 'rgb(255,255,100)',\n",
    "     },\n",
    "  }\n",
    "];\n",
    "Plotly.newPlot('myDiv', data);"
   ]
  }
 ],
 "metadata": {
  "kernelspec": {
   "display_name": "Python [conda env:PythonData]",
   "language": "python",
   "name": "conda-env-PythonData-py"
  },
  "language_info": {
   "codemirror_mode": {
    "name": "ipython",
    "version": 3
   },
   "file_extension": ".py",
   "mimetype": "text/x-python",
   "name": "python",
   "nbconvert_exporter": "python",
   "pygments_lexer": "ipython3",
   "version": "3.7.0"
  }
 },
 "nbformat": 4,
 "nbformat_minor": 2
}
