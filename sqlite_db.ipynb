{
 "cells": [
  {
   "cell_type": "code",
   "execution_count": 13,
   "metadata": {},
   "outputs": [],
   "source": [
    "from sqlalchemy import create_engine\n",
    "\n",
    "import pymysql\n",
    "pymysql.install_as_MySQLdb()\n"
   ]
  },
  {
   "cell_type": "code",
   "execution_count": 14,
   "metadata": {},
   "outputs": [],
   "source": [
    "engine = create_engine(\"sqlite:///../Resources/gun_violence_data.sqlite\")"
   ]
  },
  {
   "cell_type": "code",
   "execution_count": null,
   "metadata": {},
   "outputs": [],
   "source": [
    "CREATE TABLE \"incidents\" (\n",
    "    \"id\" INTEGER NOT NULL,\n",
    "    \"date\" DATE,\n",
    "    \"state\" VARCHAR(2),\n",
    "    \"city_or_country\" VARCHAR(30),\n",
    "    \"n_killed\" NUMBER,\n",
    "    \"n_injured\" NUMBER,\n",
    "    \"latitude\" NUMBER(7, 4),\n",
    "    \"longitude\" NUMBER(7, 4),\n",
    "    PRIMARY KEY(\"id\")\n",
    ");"
   ]
  },
  {
   "cell_type": "code",
   "execution_count": null,
   "metadata": {},
   "outputs": [],
   "source": [
    "CREATE TABLE \"participants\" (\n",
    "    \"id\" INTEGER NOT NULL,\n",
    "    \"incident_id\" INTEGER,\n",
    "    \"age\" TEXT,\n",
    "    \"gender\" TEXT,\n",
    "    \"type\" TEXT,\n",
    "    \"status\" TEXT,\n",
    "    PRIMARY KEY(\"id\"),\n",
    "    FOREIGN KEY(\"incident_id\") REFERENCES \"Incidents\"(\"id\")\n",
    ");"
   ]
  },
  {
   "cell_type": "code",
   "execution_count": null,
   "metadata": {},
   "outputs": [],
   "source": [
    "CREATE TABLE \"categories\" (\n",
    "    \"id\" INTEGER NOT NULL,\n",
    "    \"name\"\tTEXT,\n",
    "\tPRIMARY KEY(\"id\")\n",
    ");"
   ]
  },
  {
   "cell_type": "code",
   "execution_count": null,
   "metadata": {},
   "outputs": [],
   "source": [
    "CREATE TABLE \"IncidentCategories\" (\n",
    "    \"incident_id\" INTEGER,\n",
    "    \"category_id\" INTEGER,\n",
    "    FOREIGN KEY(\"incident_id\") REFERENCES \"Incidents\"(\"id\"),\n",
    "    FOREIGN KEY(\"category_id\") REFERENCES \"Categories\"(\"id\")\n",
    ");"
   ]
  },
  {
   "cell_type": "code",
   "execution_count": null,
   "metadata": {},
   "outputs": [],
   "source": [
    "CREATE TABLE \"statistics\" (\n",
    "\t\"id\"\tINTEGER NOT NULL,\n",
    "\t\"name\"\tTEXT,\n",
    "\t\"souce\"\tTEXT,\n",
    "\tPRIMARY KEY(\"id\")\n",
    ");"
   ]
  },
  {
   "cell_type": "code",
   "execution_count": null,
   "metadata": {},
   "outputs": [],
   "source": []
  }
 ],
 "metadata": {
  "kernelspec": {
   "display_name": "Python [conda env:PythonData]",
   "language": "python",
   "name": "conda-env-PythonData-py"
  },
  "language_info": {
   "codemirror_mode": {
    "name": "ipython",
    "version": 3
   },
   "file_extension": ".py",
   "mimetype": "text/x-python",
   "name": "python",
   "nbconvert_exporter": "python",
   "pygments_lexer": "ipython3",
   "version": "3.7.0"
  }
 },
 "nbformat": 4,
 "nbformat_minor": 2
}
