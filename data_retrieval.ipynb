{
 "cells": [
  {
   "cell_type": "code",
   "execution_count": 1,
   "metadata": {},
   "outputs": [],
   "source": [
    "from db_schema import engine, Incident, Category, Participant, Statistics\n",
    "from sqlalchemy.orm import sessionmaker\n",
    "from sqlalchemy import func, extract"
   ]
  },
  {
   "cell_type": "code",
   "execution_count": 2,
   "metadata": {},
   "outputs": [],
   "source": [
    "Session = sessionmaker(bind=engine)"
   ]
  },
  {
   "cell_type": "code",
   "execution_count": 3,
   "metadata": {},
   "outputs": [],
   "source": [
    "participant_pivots = { 'victimAge', 'victimGender', 'suspectAge', 'suspectGender' }\n",
    "incident_pivots = { 'state', 'year', 'yearMonth' }\n",
    "group_by_selectors = {\n",
    "    'state': Incident.state,\n",
    "    'year': func.strftime('%Y', Incident.date),\n",
    "    'yearMonth': func.strftime('%Y-%m', Incident.date),\n",
    "    'victimAge': Participant.age,\n",
    "    'victimGender': Participant.is_male,\n",
    "    'suspectAge': Participant.age,\n",
    "    'suspectGender': Participant.is_male\n",
    "}\n",
    "\n",
    "participant_status_filters = {\n",
    "    'incidents': None,\n",
    "    'killed': (Participant.is_killed, True),\n",
    "    'injured': (Participant.is_killed, False)\n",
    "}\n",
    "\n",
    "participant_type_filters = {\n",
    "    'victimAge': (Participant.is_victim, True),\n",
    "    'victimGender': (Participant.is_victim, True),\n",
    "    'suspectAge': (Participant.is_victim, False),\n",
    "    'suspectGender': (Participant.is_victim, False),\n",
    "}\n",
    "\n",
    "incident_aggregate_selectors = {\n",
    "    'incidents': func.count(),\n",
    "    'killed': func.sum(Incident.n_killed),\n",
    "    'injured': func.sum(Incident.n_injured)\n",
    "}"
   ]
  },
  {
   "cell_type": "code",
   "execution_count": 4,
   "metadata": {},
   "outputs": [],
   "source": [
    "def get_data(settings):\n",
    "    session = Session()\n",
    "    \n",
    "    # Extracting values\n",
    "    inclusive_categories = [value['value'] for value in settings['inclusiveCategories']]\n",
    "    exclusive_categories = [value['value'] for value in settings['exclusiveCategories']]\n",
    "    years = [int(value['value']) for value in settings['years']]\n",
    "    pivots = [value['value'] for value in settings['pivotBy']]\n",
    "    y_axis = settings['yAxis']['value']\n",
    "    \n",
    "    # Check data type\n",
    "    has_participant_pivot = len(participant_pivots.intersection(pivots))\n",
    "    has_incident_pivot = len(incident_pivots.intersection(pivots))\n",
    "    has_incident_filter = len(inclusive_categories) or len(exclusive_categories) or len(years)\n",
    "    \n",
    "    # 1. Add group by selectors \n",
    "    group_selectors = []\n",
    "    for pivot in pivots:\n",
    "        group_selectors.append(group_by_selectors[pivot])\n",
    "    # 2. Add aggregate selector\n",
    "    aggregate_selector = func.count() if has_participant_pivot else incident_aggregate_selectors[y_axis]\n",
    "    query_selectors = group_selectors + [aggregate_selector]\n",
    "    query = session.query(*query_selectors)\n",
    "    # 3. Add join if both incidents and participants\n",
    "    if has_participant_pivot and (has_incident_pivot or has_incident_filter):\n",
    "        query = query.filter(Incident.id == Participant.incident_id)\n",
    "    # 4. Add participant type filters\n",
    "    for pivot in pivots:\n",
    "        is_participant = pivot in participant_pivots\n",
    "        if is_participant:\n",
    "            type_filter = participant_type_filters[pivot]\n",
    "            query = query.filter(type_filter[0] == type_filter[1])\n",
    "    # 5. Add participant status filters\n",
    "    if has_participant_pivot:    \n",
    "        status_filter = participant_status_filters[y_axis]\n",
    "        if status_filter:\n",
    "            query = query.filter(status_filter[0] == status_filter[1])\n",
    "    # 6. Add incident category filters\n",
    "    if len(inclusive_categories):\n",
    "        incat_incidents = session.query(Incident.id).\\\n",
    "            filter(Incident.categories.any(Category.name.in_(inclusive_categories))).\\\n",
    "            subquery()\n",
    "        query = query.join(incat_incidents, Incident.id == incat_incidents.c.id)\n",
    "    if len(exclusive_categories):\n",
    "        excat_incidents = session.query(Incident.id).\\\n",
    "            filter(Incident.categories.any(Category.name.in_(exclusive_categories))).\\\n",
    "            subquery()\n",
    "        query = query.outerjoin(excat_incidents, Incident.id == excat_incidents.c.id).\\\n",
    "            filter(excat_incidents.c.id == None)\n",
    "    # 7. Add filter to ignore items with unknown value\n",
    "    for group_selector in group_selectors:\n",
    "        query = query.filter(group_selector != None)\n",
    "    # 8. Add filter by years\n",
    "    if len(years):\n",
    "        query = query.filter(extract('year', Incident.date).in_(years))\n",
    "    # 8. Add group by\n",
    "    query = query.group_by(*group_selectors)\n",
    "    \n",
    "    # Executing query and converting it to proper format\n",
    "    data = query.all()\n",
    "    result = {}\n",
    "    result['y_axis'] = settings['yAxis']['display']\n",
    "    result['pivot'] = [value['display'] for value in settings['pivotBy']]\n",
    "    result['data'] = {}\n",
    "    for item in data:\n",
    "        item_data = result['data']\n",
    "        for sub_item in item[:-1]:        \n",
    "            item_data = item_data.setdefault(sub_item, {})\n",
    "        item_data['y_axis'] = item[-1]\n",
    "    return result    "
   ]
  },
  {
   "cell_type": "code",
   "execution_count": 5,
   "metadata": {},
   "outputs": [],
   "source": [
    "def get_categories():\n",
    "    return [c[0] for c in Session().query(Category.name).all()]"
   ]
  },
  {
   "cell_type": "code",
   "execution_count": 6,
   "metadata": {},
   "outputs": [],
   "source": [
    "def get_statistics():\n",
    "    return [ { 'id':c[0], 'name':c[1] } for c in Session().query(Statistics.id, Statistics.name).all()]"
   ]
  },
  {
   "cell_type": "code",
   "execution_count": 11,
   "metadata": {},
   "outputs": [
    {
     "name": "stderr",
     "output_type": "stream",
     "text": [
      "[NbConvertApp] Converting notebook data_retrieval.ipynb to Script\n",
      "[NbConvertApp] Writing 4760 bytes to data_retrieval.py\n"
     ]
    }
   ],
   "source": [
    "#!jupyter nbconvert --to Script data_retrieval"
   ]
  }
 ],
 "metadata": {
  "kernelspec": {
   "display_name": "Python 3",
   "language": "python",
   "name": "python3"
  },
  "language_info": {
   "codemirror_mode": {
    "name": "ipython",
    "version": 3
   },
   "file_extension": ".py",
   "mimetype": "text/x-python",
   "name": "python",
   "nbconvert_exporter": "python",
   "pygments_lexer": "ipython3",
   "version": "3.6.5"
  }
 },
 "nbformat": 4,
 "nbformat_minor": 2
}
