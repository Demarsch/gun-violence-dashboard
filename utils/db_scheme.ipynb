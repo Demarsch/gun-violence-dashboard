{
 "cells": [
  {
   "cell_type": "code",
   "execution_count": 22,
   "metadata": {},
   "outputs": [],
   "source": [
    "from sqlalchemy import create_engine, Table, ForeignKey, Column, Boolean, Integer, String, Date\n",
    "from sqlalchemy.ext.declarative import declarative_base\n",
    "from sqlalchemy.orm import relationship"
   ]
  },
  {
   "cell_type": "code",
   "execution_count": 23,
   "metadata": {},
   "outputs": [],
   "source": [
    "engine = create_engine('sqlite:///../data/data.sqlite')\n",
    "Base = declarative_base()"
   ]
  },
  {
   "cell_type": "code",
   "execution_count": 24,
   "metadata": {},
   "outputs": [],
   "source": [
    "incident_categories = Table('incident_categories', Base.metadata,\n",
    "    Column('incident_id', ForeignKey('incidents.id'), primary_key=True),\n",
    "    Column('category_id', ForeignKey('categories.id'), primary_key=True))"
   ]
  },
  {
   "cell_type": "code",
   "execution_count": 25,
   "metadata": {},
   "outputs": [],
   "source": [
    "class Incident(Base):\n",
    "    __tablename__ = 'incidents'\n",
    "    \n",
    "    id = Column(Integer, primary_key=True)\n",
    "    date = Column(Date)\n",
    "    state = Column(String(2))\n",
    "    n_killed = Column(Integer)\n",
    "    n_injured = Column(Integer)  \n",
    "    \n",
    "    categories = relationship('Category',\n",
    "                            secondary=incident_categories,\n",
    "                            back_populates='incidents')\n",
    "    participants = relationship('Participant', back_populates='incident')"
   ]
  },
  {
   "cell_type": "code",
   "execution_count": 26,
   "metadata": {},
   "outputs": [],
   "source": [
    "class Category(Base):\n",
    "    __tablename__ = 'categories'\n",
    "    \n",
    "    id = Column(Integer, primary_key=True)\n",
    "    name = Column(String(200))  \n",
    "    \n",
    "    incidents = relationship('Incident',\n",
    "                            secondary=incident_categories,\n",
    "                            back_populates='categories')"
   ]
  },
  {
   "cell_type": "code",
   "execution_count": 27,
   "metadata": {},
   "outputs": [],
   "source": [
    "class Participant(Base):\n",
    "    __tablename__ = 'participants'\n",
    "    \n",
    "    id = Column(Integer, primary_key=True)\n",
    "    incident_id = Column(Integer, ForeignKey('incidents.id'))\n",
    "    age = Column(Integer)\n",
    "    is_male = Column(Boolean)\n",
    "    is_killed = Column(Boolean)\n",
    "    is_victim = Column(Boolean)\n",
    "    \n",
    "    incident = relationship('Incident', back_populates='participants')"
   ]
  },
  {
   "cell_type": "code",
   "execution_count": 28,
   "metadata": {},
   "outputs": [],
   "source": [
    "Base.metadata.create_all(engine)"
   ]
  },
  {
   "cell_type": "code",
   "execution_count": 3,
   "metadata": {},
   "outputs": [
    {
     "name": "stderr",
     "output_type": "stream",
     "text": [
      "[NbConvertApp] Converting notebook db_scheme.ipynb to Script\n",
      "[NbConvertApp] Writing 1811 bytes to db_scheme.py\n"
     ]
    }
   ],
   "source": [
    "#!jupyter nbconvert --to Script db_scheme"
   ]
  }
 ],
 "metadata": {
  "kernelspec": {
   "display_name": "Python 3",
   "language": "python",
   "name": "python3"
  },
  "language_info": {
   "codemirror_mode": {
    "name": "ipython",
    "version": 3
   },
   "file_extension": ".py",
   "mimetype": "text/x-python",
   "name": "python",
   "nbconvert_exporter": "python",
   "pygments_lexer": "ipython3",
   "version": "3.6.5"
  }
 },
 "nbformat": 4,
 "nbformat_minor": 2
}
